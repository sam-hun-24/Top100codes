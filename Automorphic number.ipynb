{
 "cells": [
  {
   "cell_type": "code",
   "execution_count": 12,
   "id": "317d9190",
   "metadata": {},
   "outputs": [
    {
     "name": "stdout",
     "output_type": "stream",
     "text": [
      "Automorphic number\n"
     ]
    }
   ],
   "source": [
    "n = 5\n",
    "square = pow(n, 2)\n",
    "mod = pow(10, len(str(n)))\n",
    "if square%mod == n:\n",
    "    print('Automorphic number')\n",
    "else:\n",
    "    print('Not a automorphic number')"
   ]
  },
  {
   "cell_type": "code",
   "execution_count": null,
   "id": "09bcb5c4",
   "metadata": {},
   "outputs": [],
   "source": []
  }
 ],
 "metadata": {
  "kernelspec": {
   "display_name": "Python 3",
   "language": "python",
   "name": "python3"
  },
  "language_info": {
   "codemirror_mode": {
    "name": "ipython",
    "version": 3
   },
   "file_extension": ".py",
   "mimetype": "text/x-python",
   "name": "python",
   "nbconvert_exporter": "python",
   "pygments_lexer": "ipython3",
   "version": "3.8.8"
  }
 },
 "nbformat": 4,
 "nbformat_minor": 5
}
