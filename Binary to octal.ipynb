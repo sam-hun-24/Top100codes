{
 "cells": [
  {
   "cell_type": "code",
   "execution_count": 27,
   "id": "317d9190",
   "metadata": {},
   "outputs": [
    {
     "name": "stdout",
     "output_type": "stream",
     "text": [
      "1010\n",
      "12\n"
     ]
    }
   ],
   "source": [
    "n = input()\n",
    "dec_num = int(n, 2)\n",
    "octal = oct(dec_num).replace('0o', '')\n",
    "print(octal)"
   ]
  },
  {
   "cell_type": "code",
   "execution_count": null,
   "id": "8fe36538",
   "metadata": {},
   "outputs": [],
   "source": []
  }
 ],
 "metadata": {
  "kernelspec": {
   "display_name": "Python 3",
   "language": "python",
   "name": "python3"
  },
  "language_info": {
   "codemirror_mode": {
    "name": "ipython",
    "version": 3
   },
   "file_extension": ".py",
   "mimetype": "text/x-python",
   "name": "python",
   "nbconvert_exporter": "python",
   "pygments_lexer": "ipython3",
   "version": "3.8.8"
  }
 },
 "nbformat": 4,
 "nbformat_minor": 5
}
