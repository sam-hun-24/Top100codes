{
 "cells": [
  {
   "cell_type": "code",
   "execution_count": 16,
   "id": "4d11c5fd",
   "metadata": {},
   "outputs": [
    {
     "name": "stdout",
     "output_type": "stream",
     "text": [
      "Y:1\n",
      "o:2\n",
      "l:1\n",
      "o:2\n",
      " :1\n",
      "L:1\n",
      "i:1\n",
      "f:1\n",
      "e:1\n"
     ]
    }
   ],
   "source": [
    "s = 'Yolo Life'\n",
    "for i in s:\n",
    "    frequency = s.count(i)\n",
    "    print(str(i) + ':' + str(frequency))"
   ]
  },
  {
   "cell_type": "code",
   "execution_count": null,
   "id": "a3342adf",
   "metadata": {},
   "outputs": [],
   "source": []
  }
 ],
 "metadata": {
  "kernelspec": {
   "display_name": "Python 3",
   "language": "python",
   "name": "python3"
  },
  "language_info": {
   "codemirror_mode": {
    "name": "ipython",
    "version": 3
   },
   "file_extension": ".py",
   "mimetype": "text/x-python",
   "name": "python",
   "nbconvert_exporter": "python",
   "pygments_lexer": "ipython3",
   "version": "3.8.8"
  }
 },
 "nbformat": 4,
 "nbformat_minor": 5
}
