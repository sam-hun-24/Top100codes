{
 "cells": [
  {
   "cell_type": "code",
   "execution_count": 1,
   "id": "4d11c5fd",
   "metadata": {},
   "outputs": [
    {
     "name": "stdout",
     "output_type": "stream",
     "text": [
      "[[], [1], [1, 2], [2], [1, 2, 3], [2, 3], [3]]\n"
     ]
    }
   ],
   "source": [
    "def sub_lists(l):\n",
    "    lists = [[]]\n",
    "    for i in range(len(l) + 1):\n",
    "        for j in range(i):\n",
    "            lists.append(l[j: i])\n",
    "    return lists\n",
    "l1 = [1,2,3]\n",
    "print(sub_lists(l1))"
   ]
  },
  {
   "cell_type": "code",
   "execution_count": null,
   "id": "2f5004d9",
   "metadata": {},
   "outputs": [],
   "source": []
  }
 ],
 "metadata": {
  "kernelspec": {
   "display_name": "Python 3",
   "language": "python",
   "name": "python3"
  },
  "language_info": {
   "codemirror_mode": {
    "name": "ipython",
    "version": 3
   },
   "file_extension": ".py",
   "mimetype": "text/x-python",
   "name": "python",
   "nbconvert_exporter": "python",
   "pygments_lexer": "ipython3",
   "version": "3.8.8"
  }
 },
 "nbformat": 4,
 "nbformat_minor": 5
}
