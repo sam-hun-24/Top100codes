{
 "cells": [
  {
   "cell_type": "code",
   "execution_count": 5,
   "id": "317d9190",
   "metadata": {},
   "outputs": [
    {
     "name": "stdout",
     "output_type": "stream",
     "text": [
      "1 2 5 10 "
     ]
    }
   ],
   "source": [
    "def printDivisors(n):\n",
    "    i = 1\n",
    "    while i <= n:\n",
    "        if (n%i==0):\n",
    "            print(i, end=\" \")\n",
    "        i = i+1\n",
    "printDivisors(10)"
   ]
  },
  {
   "cell_type": "code",
   "execution_count": null,
   "id": "9d7f00a0",
   "metadata": {},
   "outputs": [],
   "source": []
  }
 ],
 "metadata": {
  "kernelspec": {
   "display_name": "Python 3",
   "language": "python",
   "name": "python3"
  },
  "language_info": {
   "codemirror_mode": {
    "name": "ipython",
    "version": 3
   },
   "file_extension": ".py",
   "mimetype": "text/x-python",
   "name": "python",
   "nbconvert_exporter": "python",
   "pygments_lexer": "ipython3",
   "version": "3.8.8"
  }
 },
 "nbformat": 4,
 "nbformat_minor": 5
}
