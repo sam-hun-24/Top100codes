{
 "cells": [
  {
   "cell_type": "code",
   "execution_count": 9,
   "id": "4d11c5fd",
   "metadata": {},
   "outputs": [
    {
     "name": "stdout",
     "output_type": "stream",
     "text": [
      "11\n"
     ]
    }
   ],
   "source": [
    "l = [10, 13, 17, 11, 34, 21]\n",
    "l.sort()\n",
    "print(l[1])"
   ]
  },
  {
   "cell_type": "code",
   "execution_count": null,
   "id": "2f5004d9",
   "metadata": {},
   "outputs": [],
   "source": []
  }
 ],
 "metadata": {
  "kernelspec": {
   "display_name": "Python 3",
   "language": "python",
   "name": "python3"
  },
  "language_info": {
   "codemirror_mode": {
    "name": "ipython",
    "version": 3
   },
   "file_extension": ".py",
   "mimetype": "text/x-python",
   "name": "python",
   "nbconvert_exporter": "python",
   "pygments_lexer": "ipython3",
   "version": "3.8.8"
  }
 },
 "nbformat": 4,
 "nbformat_minor": 5
}
