{
 "cells": [
  {
   "cell_type": "code",
   "execution_count": 1,
   "id": "4d11c5fd",
   "metadata": {},
   "outputs": [
    {
     "name": "stdout",
     "output_type": "stream",
     "text": [
      "Kth max element is:  8\n",
      "Kth min element is:  1\n"
     ]
    }
   ],
   "source": [
    "arr = [1, 7, 6, 8, 9, 2, 4, 5, 3, 0]\n",
    "k = 2\n",
    "arr.sort(reverse=True)\n",
    "print('Kth max element is: ', arr[k-1])\n",
    "arr.sort()\n",
    "print('Kth min element is: ', arr[k-1])"
   ]
  },
  {
   "cell_type": "code",
   "execution_count": null,
   "id": "19f7ea96",
   "metadata": {},
   "outputs": [],
   "source": []
  }
 ],
 "metadata": {
  "kernelspec": {
   "display_name": "Python 3",
   "language": "python",
   "name": "python3"
  },
  "language_info": {
   "codemirror_mode": {
    "name": "ipython",
    "version": 3
   },
   "file_extension": ".py",
   "mimetype": "text/x-python",
   "name": "python",
   "nbconvert_exporter": "python",
   "pygments_lexer": "ipython3",
   "version": "3.8.8"
  }
 },
 "nbformat": 4,
 "nbformat_minor": 5
}
