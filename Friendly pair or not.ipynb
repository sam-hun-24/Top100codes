{
 "cells": [
  {
   "cell_type": "code",
   "execution_count": 5,
   "id": "317d9190",
   "metadata": {},
   "outputs": [
    {
     "name": "stdout",
     "output_type": "stream",
     "text": [
      "Friendly pair\n"
     ]
    }
   ],
   "source": [
    "def printDivisors(n, factors):\n",
    "    i = 1\n",
    "    while i<=n:\n",
    "        if(n % i == 0):\n",
    "            factors.append(i)\n",
    "        i = i + 1\n",
    "    return sum(factors) - n\n",
    "n1, n2 = 6, 28\n",
    "if int(printDivisors(n1, [])/n1) == int(printDivisors(n2, [])/n2):\n",
    "    print('Friendly pair')\n",
    "else:\n",
    "    print('Not a friendly pair')"
   ]
  },
  {
   "cell_type": "code",
   "execution_count": null,
   "id": "8fe36538",
   "metadata": {},
   "outputs": [],
   "source": []
  }
 ],
 "metadata": {
  "kernelspec": {
   "display_name": "Python 3",
   "language": "python",
   "name": "python3"
  },
  "language_info": {
   "codemirror_mode": {
    "name": "ipython",
    "version": 3
   },
   "file_extension": ".py",
   "mimetype": "text/x-python",
   "name": "python",
   "nbconvert_exporter": "python",
   "pygments_lexer": "ipython3",
   "version": "3.8.8"
  }
 },
 "nbformat": 4,
 "nbformat_minor": 5
}
