{
 "cells": [
  {
   "cell_type": "code",
   "execution_count": 13,
   "id": "317d9190",
   "metadata": {},
   "outputs": [
    {
     "name": "stdout",
     "output_type": "stream",
     "text": [
      "Harshad number\n"
     ]
    }
   ],
   "source": [
    "num = 21\n",
    "rem = 0\n",
    "sum = 0\n",
    "n = num\n",
    "while(num>0):\n",
    "    rem = num%10\n",
    "    sum = sum + rem\n",
    "    num = num//10\n",
    "if(n%sum == 0):\n",
    "    print('Harshad number')\n",
    "else:\n",
    "    print('Not a Harshad number')"
   ]
  },
  {
   "cell_type": "code",
   "execution_count": null,
   "id": "8fe36538",
   "metadata": {},
   "outputs": [],
   "source": []
  }
 ],
 "metadata": {
  "kernelspec": {
   "display_name": "Python 3",
   "language": "python",
   "name": "python3"
  },
  "language_info": {
   "codemirror_mode": {
    "name": "ipython",
    "version": 3
   },
   "file_extension": ".py",
   "mimetype": "text/x-python",
   "name": "python",
   "nbconvert_exporter": "python",
   "pygments_lexer": "ipython3",
   "version": "3.8.8"
  }
 },
 "nbformat": 4,
 "nbformat_minor": 5
}
