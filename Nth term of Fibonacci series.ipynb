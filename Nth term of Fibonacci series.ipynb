{
 "cells": [
  {
   "cell_type": "code",
   "execution_count": 2,
   "id": "317d9190",
   "metadata": {},
   "outputs": [
    {
     "name": "stdout",
     "output_type": "stream",
     "text": [
      "5\n"
     ]
    }
   ],
   "source": [
    "def Fibonacci(n):\n",
    "    if n<2:\n",
    "        return n\n",
    "    fs = [0, 1]\n",
    "    for i in range(1, n):\n",
    "        fs.append(fs[i] + fs[i-1])\n",
    "    return fs[n]\n",
    "n = 6\n",
    "print(Fibonacci(n-1))"
   ]
  },
  {
   "cell_type": "code",
   "execution_count": null,
   "id": "2a0c8dae",
   "metadata": {},
   "outputs": [],
   "source": []
  }
 ],
 "metadata": {
  "kernelspec": {
   "display_name": "Python 3",
   "language": "python",
   "name": "python3"
  },
  "language_info": {
   "codemirror_mode": {
    "name": "ipython",
    "version": 3
   },
   "file_extension": ".py",
   "mimetype": "text/x-python",
   "name": "python",
   "nbconvert_exporter": "python",
   "pygments_lexer": "ipython3",
   "version": "3.8.8"
  }
 },
 "nbformat": 4,
 "nbformat_minor": 5
}
