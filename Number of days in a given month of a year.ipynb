{
 "cells": [
  {
   "cell_type": "code",
   "execution_count": 6,
   "id": "4d11c5fd",
   "metadata": {},
   "outputs": [
    {
     "name": "stdout",
     "output_type": "stream",
     "text": [
      "31 days\n"
     ]
    }
   ],
   "source": [
    "month = 12\n",
    "year = 2021\n",
    "if ((month == 2) and ((year%4==0) or ((year%100==0) and (year%400==0)))):\n",
    "    print('29 days')\n",
    "elif(month == 2):\n",
    "    print('28 days')\n",
    "elif (month==1 or month==3 or month==5 or month==7 or month==8 or month==10 or month==12):\n",
    "    print('31 days')\n",
    "else:\n",
    "    print('30 days')"
   ]
  },
  {
   "cell_type": "code",
   "execution_count": null,
   "id": "3a39dfb5",
   "metadata": {},
   "outputs": [],
   "source": []
  }
 ],
 "metadata": {
  "kernelspec": {
   "display_name": "Python 3",
   "language": "python",
   "name": "python3"
  },
  "language_info": {
   "codemirror_mode": {
    "name": "ipython",
    "version": 3
   },
   "file_extension": ".py",
   "mimetype": "text/x-python",
   "name": "python",
   "nbconvert_exporter": "python",
   "pygments_lexer": "ipython3",
   "version": "3.8.8"
  }
 },
 "nbformat": 4,
 "nbformat_minor": 5
}
