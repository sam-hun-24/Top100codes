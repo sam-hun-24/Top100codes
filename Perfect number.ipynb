{
 "cells": [
  {
   "cell_type": "code",
   "execution_count": 6,
   "id": "317d9190",
   "metadata": {},
   "outputs": [
    {
     "name": "stdout",
     "output_type": "stream",
     "text": [
      "Perfect number\n"
     ]
    }
   ],
   "source": [
    "n = 28\n",
    "sum = 0\n",
    "for i in range(1, n):\n",
    "    if n%i == 0:\n",
    "        sum = sum + i\n",
    "if sum == n:\n",
    "    print('Perfect number')\n",
    "else:\n",
    "    print('Not a perfect number')"
   ]
  },
  {
   "cell_type": "code",
   "execution_count": null,
   "id": "34f11d4f",
   "metadata": {},
   "outputs": [],
   "source": []
  }
 ],
 "metadata": {
  "kernelspec": {
   "display_name": "Python 3",
   "language": "python",
   "name": "python3"
  },
  "language_info": {
   "codemirror_mode": {
    "name": "ipython",
    "version": 3
   },
   "file_extension": ".py",
   "mimetype": "text/x-python",
   "name": "python",
   "nbconvert_exporter": "python",
   "pygments_lexer": "ipython3",
   "version": "3.8.8"
  }
 },
 "nbformat": 4,
 "nbformat_minor": 5
}
