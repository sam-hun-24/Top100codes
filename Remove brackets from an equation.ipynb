{
 "cells": [
  {
   "cell_type": "code",
   "execution_count": 1,
   "id": "4d11c5fd",
   "metadata": {},
   "outputs": [
    {
     "name": "stdout",
     "output_type": "stream",
     "text": [
      "a-b+c*d+e/f\n"
     ]
    }
   ],
   "source": [
    "exp = '(a-b)+[c*d]+{e/f}'\n",
    "equation = ''\n",
    "for i in exp:\n",
    "    if i == '(' or i == ')' or i == '[' or i == ']' or i == '{' or i == '}':\n",
    "        pass\n",
    "    else:\n",
    "        equation = equation + i\n",
    "print(equation)"
   ]
  },
  {
   "cell_type": "code",
   "execution_count": null,
   "id": "2f5004d9",
   "metadata": {},
   "outputs": [],
   "source": []
  }
 ],
 "metadata": {
  "kernelspec": {
   "display_name": "Python 3",
   "language": "python",
   "name": "python3"
  },
  "language_info": {
   "codemirror_mode": {
    "name": "ipython",
    "version": 3
   },
   "file_extension": ".py",
   "mimetype": "text/x-python",
   "name": "python",
   "nbconvert_exporter": "python",
   "pygments_lexer": "ipython3",
   "version": "3.8.8"
  }
 },
 "nbformat": 4,
 "nbformat_minor": 5
}
