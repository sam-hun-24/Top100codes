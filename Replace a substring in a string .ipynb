{
 "cells": [
  {
   "cell_type": "code",
   "execution_count": 1,
   "id": "4d11c5fd",
   "metadata": {},
   "outputs": [
    {
     "name": "stdout",
     "output_type": "stream",
     "text": [
      "Enter the string: PrepInsta\n",
      "Enter the substring which has to be replaced: Insta\n",
      "Enter the substring that has to ber inserted: Ster\n",
      "PrepSter\n"
     ]
    }
   ],
   "source": [
    "s = input('Enter the string: ')\n",
    "str1 = input('Enter the substring which has to be replaced: ')\n",
    "str2 = input('Enter the substring that has to ber inserted: ')\n",
    "s = s.replace(str1,str2)\n",
    "print(s)"
   ]
  },
  {
   "cell_type": "code",
   "execution_count": null,
   "id": "0d7a6b89",
   "metadata": {},
   "outputs": [],
   "source": []
  }
 ],
 "metadata": {
  "kernelspec": {
   "display_name": "Python 3",
   "language": "python",
   "name": "python3"
  },
  "language_info": {
   "codemirror_mode": {
    "name": "ipython",
    "version": 3
   },
   "file_extension": ".py",
   "mimetype": "text/x-python",
   "name": "python",
   "nbconvert_exporter": "python",
   "pygments_lexer": "ipython3",
   "version": "3.8.8"
  }
 },
 "nbformat": 4,
 "nbformat_minor": 5
}
