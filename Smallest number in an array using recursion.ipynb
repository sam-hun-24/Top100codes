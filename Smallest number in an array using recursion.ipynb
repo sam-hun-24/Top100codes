{
 "cells": [
  {
   "cell_type": "code",
   "execution_count": 3,
   "id": "4d11c5fd",
   "metadata": {},
   "outputs": [
    {
     "name": "stdout",
     "output_type": "stream",
     "text": [
      "-50\n"
     ]
    }
   ],
   "source": [
    "def findMinRec(A, n):\n",
    "    if (n==1):\n",
    "        return A[0]\n",
    "    return min(A[n-1], findMinRec(A, n-1))\n",
    "A = [1, 4, 45, 6, -50, 10, 2]\n",
    "n = len(A)\n",
    "print(findMinRec(A, n))"
   ]
  },
  {
   "cell_type": "code",
   "execution_count": null,
   "id": "2f5004d9",
   "metadata": {},
   "outputs": [],
   "source": []
  }
 ],
 "metadata": {
  "kernelspec": {
   "display_name": "Python 3",
   "language": "python",
   "name": "python3"
  },
  "language_info": {
   "codemirror_mode": {
    "name": "ipython",
    "version": 3
   },
   "file_extension": ".py",
   "mimetype": "text/x-python",
   "name": "python",
   "nbconvert_exporter": "python",
   "pygments_lexer": "ipython3",
   "version": "3.8.8"
  }
 },
 "nbformat": 4,
 "nbformat_minor": 5
}
