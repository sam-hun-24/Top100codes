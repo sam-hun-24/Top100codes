{
 "cells": [
  {
   "cell_type": "code",
   "execution_count": 1,
   "id": "4d11c5fd",
   "metadata": {},
   "outputs": [
    {
     "name": "stdout",
     "output_type": "stream",
     "text": [
      "1 2 3 4 9 8 7 6 5 "
     ]
    }
   ],
   "source": [
    "def printOrder(l, n):\n",
    "    l.sort()\n",
    "    for i in range(n//2):\n",
    "        print(l[i], end=' ')\n",
    "    for j in range(n-1, (n//2)-1, -1):\n",
    "        print(l[j], end=' ')\n",
    "l = [5, 4, 6, 2, 1, 3, 8, 9, 7]\n",
    "n = len(l)\n",
    "printOrder(l, n)"
   ]
  },
  {
   "cell_type": "code",
   "execution_count": null,
   "id": "2f5004d9",
   "metadata": {},
   "outputs": [],
   "source": []
  }
 ],
 "metadata": {
  "kernelspec": {
   "display_name": "Python 3",
   "language": "python",
   "name": "python3"
  },
  "language_info": {
   "codemirror_mode": {
    "name": "ipython",
    "version": 3
   },
   "file_extension": ".py",
   "mimetype": "text/x-python",
   "name": "python",
   "nbconvert_exporter": "python",
   "pygments_lexer": "ipython3",
   "version": "3.8.8"
  }
 },
 "nbformat": 4,
 "nbformat_minor": 5
}
